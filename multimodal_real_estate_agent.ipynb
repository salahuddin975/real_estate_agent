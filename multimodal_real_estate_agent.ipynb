{
 "cells": [
  {
   "cell_type": "markdown",
   "metadata": {},
   "source": [
    "### Chroma multimodal: https://docs.trychroma.com/guides/multimodal "
   ]
  },
  {
   "cell_type": "code",
   "execution_count": null,
   "metadata": {},
   "outputs": [],
   "source": [
    "# %pip install --upgrade chromadb\n",
    "# %pip install pillow\n",
    "# %pip install open-clip-torch\n",
    "# %pip install tqdm\n",
    "# %pip install matplotlib\n",
    "# %pip install pandas\n"
   ]
  },
  {
   "cell_type": "code",
   "execution_count": 40,
   "metadata": {},
   "outputs": [],
   "source": [
    "import chromadb \n",
    "import pandas as pd\n",
    "from chromadb.utils.embedding_functions import OpenCLIPEmbeddingFunction \n",
    "from chromadb.utils.data_loaders import ImageLoader\n",
    "from matplotlib import pyplot as plt "
   ]
  },
  {
   "cell_type": "code",
   "execution_count": 41,
   "metadata": {},
   "outputs": [
    {
     "name": "stderr",
     "output_type": "stream",
     "text": [
      "INFO:backoff:Backing off send_request(...) for 0.3s (requests.exceptions.ConnectionError: ('Connection aborted.', RemoteDisconnected('Remote end closed connection without response')))\n"
     ]
    }
   ],
   "source": [
    "chroma_client = chromadb.PersistentClient(path='chroma_vectordb')\n",
    "\n",
    "image_loader = ImageLoader()\n",
    "multimodal_ef = OpenCLIPEmbeddingFunction()\n",
    "multimodal_db = chroma_client.get_or_create_collection(name=\"real_estate_mmdb\", embedding_function=multimodal_ef, data_loader=image_loader)"
   ]
  },
  {
   "cell_type": "code",
   "execution_count": 42,
   "metadata": {},
   "outputs": [],
   "source": [
    "\n",
    "column_names = ['num_bedrooms', 'num_bathrooms', 'area', 'zipcode', 'price']\n",
    "df = pd.read_csv('./houses_dataset/Houses Dataset/HousesInfo.txt', delimiter=' ', header=None, names=column_names)"
   ]
  },
  {
   "cell_type": "code",
   "execution_count": 43,
   "metadata": {},
   "outputs": [
    {
     "name": "stdout",
     "output_type": "stream",
     "text": [
      "   num_bedrooms  num_bathrooms  area  zipcode   price\n",
      "0             4            4.0  4053    85255  869500\n",
      "1             4            3.0  3343    36372  865200\n",
      "2             3            4.0  3923    85266  889000\n",
      "3             5            5.0  4022    85262  910000\n",
      "4             3            4.0  4116    85266  971226\n"
     ]
    }
   ],
   "source": [
    "print(df.head(5))"
   ]
  },
  {
   "cell_type": "code",
   "execution_count": 44,
   "metadata": {},
   "outputs": [],
   "source": [
    "total_num_houses = 535\n",
    "ids = []\n",
    "uris = []\n",
    "metadatas = []\n",
    "for i in range(total_num_houses):\n",
    "    ids.append(str(i))\n",
    "    uris.append('houses_dataset/Houses Dataset/' + str(i+1) + '_frontal.jpg')\n",
    "    metadatas.append(\n",
    "            {\n",
    "                'number_of_bedrooms': int(df.iloc[i, 0]), \n",
    "                'number_of_bathrooms': int(df.iloc[i, 1]), \n",
    "                'area': int(df.iloc[i, 2]),\n",
    "                'zipcode': int(df.iloc[i, 3]),\n",
    "                'price': int(df.iloc[i, 4])\n",
    "            }        \n",
    "    )"
   ]
  },
  {
   "cell_type": "code",
   "execution_count": 45,
   "metadata": {},
   "outputs": [
    {
     "name": "stdout",
     "output_type": "stream",
     "text": [
      "['0', '1', '2', '3', '4', '5', '6', '7', '8', '9']\n",
      "['houses_dataset/Houses Dataset/1_frontal.jpg', 'houses_dataset/Houses Dataset/2_frontal.jpg', 'houses_dataset/Houses Dataset/3_frontal.jpg', 'houses_dataset/Houses Dataset/4_frontal.jpg', 'houses_dataset/Houses Dataset/5_frontal.jpg', 'houses_dataset/Houses Dataset/6_frontal.jpg', 'houses_dataset/Houses Dataset/7_frontal.jpg', 'houses_dataset/Houses Dataset/8_frontal.jpg', 'houses_dataset/Houses Dataset/9_frontal.jpg', 'houses_dataset/Houses Dataset/10_frontal.jpg']\n",
      "[{'number_of_bedrooms': 4, 'number_of_bathrooms': 4, 'area': 4053, 'zipcode': 85255, 'price': 869500}, {'number_of_bedrooms': 4, 'number_of_bathrooms': 3, 'area': 3343, 'zipcode': 36372, 'price': 865200}, {'number_of_bedrooms': 3, 'number_of_bathrooms': 4, 'area': 3923, 'zipcode': 85266, 'price': 889000}, {'number_of_bedrooms': 5, 'number_of_bathrooms': 5, 'area': 4022, 'zipcode': 85262, 'price': 910000}, {'number_of_bedrooms': 3, 'number_of_bathrooms': 4, 'area': 4116, 'zipcode': 85266, 'price': 971226}, {'number_of_bedrooms': 4, 'number_of_bathrooms': 5, 'area': 4581, 'zipcode': 85266, 'price': 1249000}, {'number_of_bedrooms': 3, 'number_of_bathrooms': 4, 'area': 2544, 'zipcode': 85262, 'price': 799000}, {'number_of_bedrooms': 4, 'number_of_bathrooms': 5, 'area': 5524, 'zipcode': 85266, 'price': 1698000}, {'number_of_bedrooms': 3, 'number_of_bathrooms': 4, 'area': 4229, 'zipcode': 85255, 'price': 1749000}, {'number_of_bedrooms': 4, 'number_of_bathrooms': 5, 'area': 3550, 'zipcode': 85262, 'price': 1500000}]\n"
     ]
    }
   ],
   "source": [
    "print(ids[:10])\n",
    "print(uris[:10])\n",
    "print(metadatas[:10])"
   ]
  },
  {
   "cell_type": "code",
   "execution_count": 46,
   "metadata": {},
   "outputs": [],
   "source": [
    "num_houses = 100\n",
    "multimodal_db.update(                                                # add: to add first time, update: to update\n",
    "    ids = ids[:num_houses],\n",
    "    uris = uris[:num_houses],\n",
    "    metadatas = metadatas[:num_houses]\n",
    ")"
   ]
  },
  {
   "cell_type": "code",
   "execution_count": 47,
   "metadata": {},
   "outputs": [
    {
     "data": {
      "text/plain": [
       "100"
      ]
     },
     "execution_count": 47,
     "metadata": {},
     "output_type": "execute_result"
    }
   ],
   "source": [
    "multimodal_db.count()"
   ]
  },
  {
   "cell_type": "code",
   "execution_count": 48,
   "metadata": {},
   "outputs": [],
   "source": [
    "def print_query_results(query_list: list, query_results: dict)->None:\n",
    "    result_count = len(query_results['ids'][0])\n",
    "\n",
    "    for i in range(len(query_list)):\n",
    "        print(f'Results for query: {query_list[i]}')\n",
    "\n",
    "        for j in range(result_count):\n",
    "            id       = query_results[\"ids\"][i][j]\n",
    "            distance = query_results['distances'][i][j]\n",
    "            data     = query_results['data'][i][j]\n",
    "            document = query_results['documents'][i][j]\n",
    "            metadata = query_results['metadatas'][i][j]\n",
    "            uri      = query_results['uris'][i][j]\n",
    "\n",
    "            print(f'id: {id}, distance: {distance}, metadata: {metadata}, document: {document}') \n",
    "            print(f'data: {uri}')\n",
    "            plt.imshow(data)\n",
    "            plt.axis(\"off\")\n",
    "            plt.show()"
   ]
  },
  {
   "cell_type": "code",
   "execution_count": null,
   "metadata": {},
   "outputs": [],
   "source": [
    "query_texts = [\n",
    "    'Find houses with 4 bedrooms and a price range around $500,000'\n",
    "]\n",
    "num_bedroom = 4\n",
    "price = 500000\n",
    "bound_range = 25000\n",
    "\n",
    "query_results = multimodal_db.query(\n",
    "    query_texts=query_texts,\n",
    "    n_results=5, \n",
    "    include=['documents', 'distances', 'metadatas', 'data', 'uris'],\n",
    "    where={'$and': [\n",
    "        {'price': {'$gt': price - bound_range}},\n",
    "        {'price': {'$lt': price + bound_range}},\n",
    "        {'number_of_bedrooms': {'$eq': num_bedroom}}\n",
    "    ]}                                                                  # Options: $eq, $ne, $gt, $gte, $lt, $lte\n",
    ")\n",
    "\n",
    "print_query_results(query_texts, query_results)\n"
   ]
  }
 ],
 "metadata": {
  "kernelspec": {
   "display_name": "Python 3",
   "language": "python",
   "name": "python3"
  },
  "language_info": {
   "codemirror_mode": {
    "name": "ipython",
    "version": 3
   },
   "file_extension": ".py",
   "mimetype": "text/x-python",
   "name": "python",
   "nbconvert_exporter": "python",
   "pygments_lexer": "ipython3",
   "version": "3.10.14"
  }
 },
 "nbformat": 4,
 "nbformat_minor": 2
}
