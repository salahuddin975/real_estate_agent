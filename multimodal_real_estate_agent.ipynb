{
 "cells": [
  {
   "cell_type": "markdown",
   "metadata": {},
   "source": [
    "### Chroma multimodal: https://docs.trychroma.com/guides/multimodal "
   ]
  },
  {
   "cell_type": "code",
   "execution_count": 1,
   "metadata": {},
   "outputs": [],
   "source": [
    "# %pip install --upgrade chromadb\n",
    "# %pip install pillow\n",
    "# %pip install open-clip-torch\n",
    "# %pip install tqdm\n",
    "# %pip install matplotlib\n",
    "# %pip install pandas\n",
    "# %pip install langchain_openai\n"
   ]
  },
  {
   "cell_type": "code",
   "execution_count": 2,
   "metadata": {},
   "outputs": [],
   "source": [
    "import os\n",
    "import json\n",
    "import chromadb \n",
    "import pandas as pd\n",
    "from chromadb.utils.embedding_functions import OpenCLIPEmbeddingFunction \n",
    "from chromadb.utils.data_loaders import ImageLoader\n",
    "from matplotlib import pyplot as plt \n",
    "from langchain_openai import ChatOpenAI"
   ]
  },
  {
   "cell_type": "code",
   "execution_count": 3,
   "metadata": {},
   "outputs": [],
   "source": [
    "os.environ[\"OPENAI_API_KEY\"] = 'sk-proj-YsE5dZkWvxqa3dJpGRhZT3BlbkFJ2zQSyvln9eq6cKEf2dau'  # getpass.getpass()\n",
    "model = ChatOpenAI(model=\"gpt-3.5-turbo-0125\")"
   ]
  },
  {
   "cell_type": "code",
   "execution_count": 4,
   "metadata": {},
   "outputs": [
    {
     "name": "stderr",
     "output_type": "stream",
     "text": [
      "/Users/smsalahuddinkadir/Documents/Projects/ML/fellowship/.conda/lib/python3.10/site-packages/tqdm/auto.py:21: TqdmWarning: IProgress not found. Please update jupyter and ipywidgets. See https://ipywidgets.readthedocs.io/en/stable/user_install.html\n",
      "  from .autonotebook import tqdm as notebook_tqdm\n"
     ]
    }
   ],
   "source": [
    "chroma_client = chromadb.PersistentClient(path='chroma_vectordb')\n",
    "\n",
    "image_loader = ImageLoader()\n",
    "multimodal_ef = OpenCLIPEmbeddingFunction()\n",
    "\n",
    "kitchen_collection = chroma_client.get_or_create_collection(name=\"kitchen_view\", embedding_function=multimodal_ef, data_loader=image_loader)\n",
    "bathroom_collection = chroma_client.get_or_create_collection(name=\"bathroom_view\", embedding_function=multimodal_ef, data_loader=image_loader)\n",
    "bedroom_collection = chroma_client.get_or_create_collection(name=\"bedroom_view\", embedding_function=multimodal_ef, data_loader=image_loader)\n",
    "frontal_collection = chroma_client.get_or_create_collection(name=\"frontal_view\", embedding_function=multimodal_ef, data_loader=image_loader)\n"
   ]
  },
  {
   "cell_type": "code",
   "execution_count": 18,
   "metadata": {},
   "outputs": [
    {
     "name": "stdout",
     "output_type": "stream",
     "text": [
      "535\n"
     ]
    }
   ],
   "source": [
    "\n",
    "column_names = ['num_bedrooms', 'num_bathrooms', 'area', 'zipcode', 'price']\n",
    "df = pd.read_csv('./houses_dataset/Houses Dataset/HousesInfo.txt', delimiter=' ', header=None, names=column_names)\n",
    "print(len(df))"
   ]
  },
  {
   "cell_type": "code",
   "execution_count": 6,
   "metadata": {},
   "outputs": [
    {
     "name": "stdout",
     "output_type": "stream",
     "text": [
      "   num_bedrooms  num_bathrooms  area  zipcode   price\n",
      "0             4            4.0  4053    85255  869500\n",
      "1             4            3.0  3343    36372  865200\n",
      "2             3            4.0  3923    85266  889000\n",
      "3             5            5.0  4022    85262  910000\n",
      "4             3            4.0  4116    85266  971226\n"
     ]
    }
   ],
   "source": [
    "print(df.head(5))"
   ]
  },
  {
   "cell_type": "code",
   "execution_count": 7,
   "metadata": {},
   "outputs": [],
   "source": [
    "total_num_houses = len(df)\n",
    "ids = []\n",
    "kitchen_uris = []\n",
    "bathroom_uris = []\n",
    "bedroom_uris = []\n",
    "frontal_uris = []\n",
    "metadatas = []\n",
    "\n",
    "for i in range(total_num_houses):\n",
    "    ids.append(str(i))\n",
    "\n",
    "    path = f'houses_dataset/Houses Dataset/{i+1}'\n",
    "    kitchen_uris.append(f'{path}_kitchen.jpg')    \n",
    "    bathroom_uris.append(f'{path}_bathroom.jpg')\n",
    "    bedroom_uris.append(f'{path}_bedroom.jpg')\n",
    "    frontal_uris.append(f'{path}_frontal.jpg')\n",
    "\n",
    "    metadatas.append(\n",
    "            {\n",
    "                'number_of_bedrooms': int(df.iloc[i, 0]), \n",
    "                'number_of_bathrooms': int(df.iloc[i, 1]), \n",
    "                'area': int(df.iloc[i, 2]),\n",
    "                'zipcode': int(df.iloc[i, 3]),\n",
    "                'price': int(df.iloc[i, 4])\n",
    "            }        \n",
    "    )"
   ]
  },
  {
   "cell_type": "code",
   "execution_count": 8,
   "metadata": {},
   "outputs": [
    {
     "name": "stdout",
     "output_type": "stream",
     "text": [
      "['0', '1', '2', '3', '4', '5', '6', '7', '8', '9']\n",
      "['houses_dataset/Houses Dataset/1_frontal.jpg', 'houses_dataset/Houses Dataset/2_frontal.jpg', 'houses_dataset/Houses Dataset/3_frontal.jpg', 'houses_dataset/Houses Dataset/4_frontal.jpg', 'houses_dataset/Houses Dataset/5_frontal.jpg', 'houses_dataset/Houses Dataset/6_frontal.jpg', 'houses_dataset/Houses Dataset/7_frontal.jpg', 'houses_dataset/Houses Dataset/8_frontal.jpg', 'houses_dataset/Houses Dataset/9_frontal.jpg', 'houses_dataset/Houses Dataset/10_frontal.jpg']\n",
      "[{'number_of_bedrooms': 4, 'number_of_bathrooms': 4, 'area': 4053, 'zipcode': 85255, 'price': 869500}, {'number_of_bedrooms': 4, 'number_of_bathrooms': 3, 'area': 3343, 'zipcode': 36372, 'price': 865200}, {'number_of_bedrooms': 3, 'number_of_bathrooms': 4, 'area': 3923, 'zipcode': 85266, 'price': 889000}, {'number_of_bedrooms': 5, 'number_of_bathrooms': 5, 'area': 4022, 'zipcode': 85262, 'price': 910000}, {'number_of_bedrooms': 3, 'number_of_bathrooms': 4, 'area': 4116, 'zipcode': 85266, 'price': 971226}, {'number_of_bedrooms': 4, 'number_of_bathrooms': 5, 'area': 4581, 'zipcode': 85266, 'price': 1249000}, {'number_of_bedrooms': 3, 'number_of_bathrooms': 4, 'area': 2544, 'zipcode': 85262, 'price': 799000}, {'number_of_bedrooms': 4, 'number_of_bathrooms': 5, 'area': 5524, 'zipcode': 85266, 'price': 1698000}, {'number_of_bedrooms': 3, 'number_of_bathrooms': 4, 'area': 4229, 'zipcode': 85255, 'price': 1749000}, {'number_of_bedrooms': 4, 'number_of_bathrooms': 5, 'area': 3550, 'zipcode': 85262, 'price': 1500000}]\n"
     ]
    }
   ],
   "source": [
    "print(ids[:10])\n",
    "print(frontal_uris[:10])\n",
    "print(metadatas[:10])"
   ]
  },
  {
   "cell_type": "code",
   "execution_count": 9,
   "metadata": {},
   "outputs": [],
   "source": [
    "def add_or_update_collection(collection, ids, uris, metadatas):      # add: to add first time, update: to update\n",
    "    num_houses = 100\n",
    "    # collection.add(                                         \n",
    "    #     ids=ids[:num_houses],\n",
    "    #     uris=uris[:num_houses],\n",
    "    #     metadatas=metadatas[:num_houses]\n",
    "    # )\n",
    "\n",
    "    collection.update(\n",
    "        ids=ids[:num_houses],\n",
    "        uris=uris[:num_houses],\n",
    "        metadatas=metadatas[:num_houses]\n",
    "    )\n"
   ]
  },
  {
   "cell_type": "code",
   "execution_count": null,
   "metadata": {},
   "outputs": [],
   "source": [
    "add_or_update_collection(frontal_collection, ids, frontal_uris, metadatas)\n",
    "add_or_update_collection(kitchen_collection, ids, kitchen_uris, metadatas)\n",
    "add_or_update_collection(bathroom_collection, ids, bathroom_uris, metadatas)\n",
    "add_or_update_collection(bedroom_collection, ids, bedroom_uris, metadatas)"
   ]
  },
  {
   "cell_type": "code",
   "execution_count": 11,
   "metadata": {},
   "outputs": [
    {
     "data": {
      "text/plain": [
       "100"
      ]
     },
     "execution_count": 11,
     "metadata": {},
     "output_type": "execute_result"
    }
   ],
   "source": [
    "frontal_collection.count()"
   ]
  },
  {
   "cell_type": "code",
   "execution_count": 12,
   "metadata": {},
   "outputs": [],
   "source": [
    "def print_query_results(query_list: list, query_results: dict)->None:\n",
    "    result_count = len(query_results['ids'][0])\n",
    "\n",
    "    for i in range(len(query_list)):\n",
    "        print(f'Results for query: {query_list[i]}')\n",
    "\n",
    "        for j in range(result_count):\n",
    "            id       = query_results[\"ids\"][i][j]\n",
    "            distance = query_results['distances'][i][j]\n",
    "            data     = query_results['data'][i][j]\n",
    "            document = query_results['documents'][i][j]\n",
    "            metadata = query_results['metadatas'][i][j]\n",
    "            uri      = query_results['uris'][i][j]\n",
    "\n",
    "            print(f'id: {id}, distance: {distance}, metadata: {metadata}, document: {document}') \n",
    "            print(f'data: {uri}')\n",
    "            plt.imshow(data)\n",
    "            plt.axis(\"off\")\n",
    "            plt.show()"
   ]
  },
  {
   "cell_type": "code",
   "execution_count": 13,
   "metadata": {},
   "outputs": [],
   "source": [
    "def multimodal_query(multimodal_db, query_texts):\n",
    "    query_results = multimodal_db.query(\n",
    "        query_texts=query_texts,\n",
    "        n_results=2, \n",
    "        include=['documents', 'distances', 'metadatas', 'data', 'uris'],\n",
    "        # where={'$and': [\n",
    "        #     {'price': {'$gt': price - bound_range}},\n",
    "        #     {'price': {'$lt': price + bound_range}},\n",
    "        #     {'number_of_bedrooms': {'$eq': num_bedroom}}\n",
    "        # ]\n",
    "    # }                                                                  # Options: $eq, $ne, $gt, $gte, $lt, $lte\n",
    "    )\n",
    "    return query_results\n",
    "\n"
   ]
  },
  {
   "cell_type": "code",
   "execution_count": 14,
   "metadata": {},
   "outputs": [],
   "source": [
    "def get_weights(embedder, query):\n",
    "    template = (\n",
    "            \"I have four different pictures of a house: the internal picture of the kitchen, internal picture of a bathroom, internal picture of a bedroom, and frontal view of house. \"\n",
    "            \"Which pictures are more relevant for this query: \" + query + \n",
    "            \" Please provide the result only in json format with the weight of each picture type. The summation of the weights should be 1. Use keywords only: kitchen, bathroom, bedroom, frontal\"\n",
    "        )\n",
    "\n",
    "    res = embedder.invoke(template)\n",
    "    res_str = res.content if hasattr(res, 'content') else str(res)\n",
    "    weights = json.loads(res_str)\n",
    "    return weights"
   ]
  },
  {
   "cell_type": "code",
   "execution_count": 15,
   "metadata": {},
   "outputs": [],
   "source": [
    "all_queries = [\n",
    "    'Find houses in the hilly area',\n",
    "    'Find houses with wooden floor bedroom',\n",
    "    'Find houses with tiles floor kitchen',\n",
    "    'Find houses with flowers in the bathroom'\n",
    "]"
   ]
  },
  {
   "cell_type": "code",
   "execution_count": null,
   "metadata": {},
   "outputs": [],
   "source": [
    "for query in all_queries:\n",
    "    weights = get_weights(model, query)\n",
    "    print(\"query:\", query)\n",
    "    print(\"res:\", weights)\n",
    "    queries = [query]\n",
    "\n",
    "    max_key = max(weights, key=weights.get)\n",
    "    print(\"using:\", max_key)\n",
    "\n",
    "    if max_key == 'kitchen':\n",
    "        result = multimodal_query(kitchen_collection, queries)\n",
    "    elif max_key == 'bathroom':\n",
    "        result = multimodal_query(bathroom_collection, queries)\n",
    "    elif max_key == 'bedroom':\n",
    "        result = multimodal_query(bedroom_collection, queries)\n",
    "    else:\n",
    "        result = multimodal_query(frontal_collection, queries)\n",
    "\n",
    "    print(result['ids'])\n",
    "    print_query_results(queries, result)"
   ]
  }
 ],
 "metadata": {
  "kernelspec": {
   "display_name": "Python 3",
   "language": "python",
   "name": "python3"
  },
  "language_info": {
   "codemirror_mode": {
    "name": "ipython",
    "version": 3
   },
   "file_extension": ".py",
   "mimetype": "text/x-python",
   "name": "python",
   "nbconvert_exporter": "python",
   "pygments_lexer": "ipython3",
   "version": "3.10.14"
  }
 },
 "nbformat": 4,
 "nbformat_minor": 2
}
